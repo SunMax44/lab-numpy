{
 "cells": [
  {
   "cell_type": "code",
   "execution_count": 49,
   "id": "53c363b8-6e8f-472a-bbcb-15788c4a2496",
   "metadata": {},
   "outputs": [
    {
     "data": {
      "text/plain": [
       "0.9940900026827937"
      ]
     },
     "execution_count": 49,
     "metadata": {},
     "output_type": "execute_result"
    }
   ],
   "source": [
    "#1\n",
    "import numpy as np\n",
    "#2\n",
    "null_vector = np.zeros(10)\n",
    "#3\n",
    "null_vector[4] = 1\n",
    "null_vector\n",
    "#4\n",
    "np.arange(10,49)\n",
    "#5\n",
    "np.arange(0,9).reshape((3,3))\n",
    "#6\n",
    "np.nonzero([1,2,0,0,4,0])\n",
    "#7\n",
    "np.eye(3,3)\n",
    "#8\n",
    "np.random.random((3,3,3))\n",
    "#9\n",
    "ten = np.random.random((10,10))\n",
    "np.min(ten)\n",
    "np.max(ten)"
   ]
  },
  {
   "cell_type": "code",
   "execution_count": null,
   "id": "9c52c946-cf74-495f-833d-b0a68e6de9f9",
   "metadata": {},
   "outputs": [],
   "source": [
    "# numpy exercises\n",
    "\n",
    "#### 1. Import the numpy package under the name `np` (★☆☆)\n",
    "#`hint: import … as`\n",
    "import numpy as np\n",
    "\n",
    "#### 2. Create a null vector of size 10 (★☆☆)\n",
    "`hint: np.zeros`\n",
    "\n",
    "#### 3. Create a null vector of size 10 but the fifth value which is 1 (★☆☆)\n",
    "`hint: array[4]`\n",
    "\n",
    "#### 4. Create a vector with values ranging from 10 to 49 (★☆☆)\n",
    "`hint: arange`\n",
    "\n",
    "#### 5. Create a 3x3 matrix with values ranging from 0 to 8 (★☆☆)\n",
    "`hint: reshape`\n",
    "\n",
    "#### 6. Find indices of non-zero elements from [1,2,0,0,4,0] (★☆☆)\n",
    "`hint: np.nonzero`\n",
    "\n",
    "#### 7. Create a 3x3 identity matrix (★☆☆)\n",
    "`hint: np.eye`\n",
    "\n",
    "#### 8. Create a 3x3x3 array with random values (★☆☆)\n",
    "`hint: np.random.random`\n",
    "\n",
    "#### 9. Create a 10x10 array with random values and find the minimum and maximum values (★☆☆)\n",
    "`hint: min, max`\n",
    "\n",
    "#### 10. Create a random vector of size 30 and find the mean value (★☆☆)\n",
    "`hint: mean`\n",
    "\n",
    "#### 11. Create a 5x5 matrix with values 1,2,3,4 just below the diagonal (★☆☆)\n",
    "`hint: np.diag`\n",
    "\n",
    "#### 12. Normalize a 5x5 random matrix (★☆☆)\n",
    "`hint: (x -mean)/std`\n",
    "\n",
    "#### 13. How to find common values between two arrays? (★☆☆)\n",
    "`hint: np.intersect1d`\n",
    "\n",
    "#### 14. Create a random vector of size 10 and sort it (★★☆)\n",
    "`hint: sort`\n",
    "\n",
    "#### 15. Create random vector of size 10 and replace the maximum value by 0 (★★☆)\n",
    "`hint: argmax`\n",
    "\n",
    "#### 16. Subtract the mean of each row of a matrix (★★☆)\n",
    "`hint: mean(axis=,keepdims=)`\n",
    "\n",
    "#### 17. How to get the n largest values of an array (★★★)\n",
    "`Z = np.arange(10000)\n",
    "np.random.shuffle(Z)\n",
    "n = 5\n",
    "hint: np.argsort | np.argpartition`\n",
    "\n",
    "#### 18. Create a random 5*3 matrix and replace items that are larger than 4 by their squares ( Example:  6 --> 36) \n",
    "`hint: np.where`"
   ]
  },
  {
   "cell_type": "code",
   "execution_count": 12,
   "id": "234dd779-67d5-44e3-a4be-5768e94e3a77",
   "metadata": {},
   "outputs": [
    {
     "data": {
      "text/plain": [
       "array([[324, 225,   4],\n",
       "       [400, 256,  36],\n",
       "       [144,  64,   1],\n",
       "       [ 64,  36, 100],\n",
       "       [400,  49,   1]])"
      ]
     },
     "execution_count": 12,
     "metadata": {},
     "output_type": "execute_result"
    }
   ],
   "source": [
    "#18\n",
    "import numpy as np\n",
    "M = np.random.randint(1, 21, (5,3))\n",
    "np.where(M>4, M**2, M)"
   ]
  },
  {
   "cell_type": "code",
   "execution_count": null,
   "id": "61cf6f5c-5e8a-4767-9695-0581dcbb9ec9",
   "metadata": {},
   "outputs": [],
   "source": [
    "#17\n",
    "Z = np.arange(10000)\n",
    "np.random.shuffle(Z)\n",
    "n = 5\n",
    "#hint: np.argsort | np.argpartition\n",
    "indices = np.argsort(Z,axis=-1,kind='heapsort')[::-1]\n",
    "\n",
    "Z[indices][:n]"
   ]
  },
  {
   "cell_type": "code",
   "execution_count": 165,
   "id": "56f067bf-8989-4e2e-860c-416f517db889",
   "metadata": {},
   "outputs": [
    {
     "data": {
      "text/plain": [
       "array([[[0.58252718, 0.53042962, 0.45120482, 0.47335034, 0.46057897,\n",
       "         0.54428714, 0.57530153, 0.59025242, 0.54704239, 0.36223809],\n",
       "        [0.50477714, 0.69462393, 0.43450593, 0.4711749 , 0.45772549,\n",
       "         0.46627277, 0.59885217, 0.66203522, 0.5249688 , 0.58062692],\n",
       "        [0.472738  , 0.53763998, 0.4595218 , 0.63495717, 0.38486068,\n",
       "         0.58410607, 0.4519479 , 0.68359956, 0.64202545, 0.67260723],\n",
       "        [0.35447712, 0.62008594, 0.52133307, 0.66010561, 0.42407693,\n",
       "         0.61988088, 0.46424297, 0.4930503 , 0.57149278, 0.47771367],\n",
       "        [0.45209779, 0.4033556 , 0.59846562, 0.41364075, 0.62587367,\n",
       "         0.65157709, 0.48671559, 0.50423895, 0.52920656, 0.34295152],\n",
       "        [0.45850383, 0.40949697, 0.56199056, 0.43149153, 0.45824075,\n",
       "         0.49920233, 0.39279117, 0.48641261, 0.3773906 , 0.61133779],\n",
       "        [0.62704281, 0.50558699, 0.56931103, 0.55117185, 0.43920472,\n",
       "         0.45985276, 0.66281959, 0.36383472, 0.37705117, 0.55198181],\n",
       "        [0.51498332, 0.47141621, 0.53220776, 0.63698648, 0.35762926,\n",
       "         0.30634263, 0.4338765 , 0.47748579, 0.55341244, 0.35497518],\n",
       "        [0.46339386, 0.51931011, 0.57739719, 0.65193209, 0.64681783,\n",
       "         0.44242421, 0.51861288, 0.60515049, 0.36418246, 0.33440773],\n",
       "        [0.44843386, 0.53788673, 0.35308185, 0.63211458, 0.46730598,\n",
       "         0.41958857, 0.37042679, 0.60874072, 0.50742241, 0.47458866]]])"
      ]
     },
     "execution_count": 165,
     "metadata": {},
     "output_type": "execute_result"
    }
   ],
   "source": [
    "#16\n",
    "n = np.random.random((10,10,10))\n",
    "np.mean(n,axis=0,keepdims=True)"
   ]
  },
  {
   "cell_type": "code",
   "execution_count": 137,
   "id": "d2b09829-9702-4ba8-9144-880718a37a0e",
   "metadata": {},
   "outputs": [
    {
     "data": {
      "text/plain": [
       "200.0"
      ]
     },
     "execution_count": 137,
     "metadata": {},
     "output_type": "execute_result"
    }
   ],
   "source": [
    "#15\n",
    "m = np.random.random(10)\n",
    "m[np.argmax(m)] = 200\n",
    "np.max(m)"
   ]
  },
  {
   "cell_type": "code",
   "execution_count": 121,
   "id": "e050f94a-c2f9-4970-959f-b177201402a5",
   "metadata": {},
   "outputs": [
    {
     "data": {
      "text/plain": [
       "array([0.129712  , 0.16248825, 0.40319007, 0.43137193, 0.5753898 ,\n",
       "       0.62870172, 0.83929288, 0.91511688, 0.94398207, 0.95963398])"
      ]
     },
     "execution_count": 121,
     "metadata": {},
     "output_type": "execute_result"
    }
   ],
   "source": [
    "#14\n",
    "np.sort(np.random.random(10))"
   ]
  },
  {
   "cell_type": "code",
   "execution_count": 93,
   "id": "b27c8339-fcd4-47a1-967a-2d7fcf96c925",
   "metadata": {},
   "outputs": [
    {
     "data": {
      "text/plain": [
       "array([], dtype=float64)"
      ]
     },
     "execution_count": 93,
     "metadata": {},
     "output_type": "execute_result"
    }
   ],
   "source": [
    "#13\n",
    "np.intersect1d(x,y)"
   ]
  },
  {
   "cell_type": "code",
   "execution_count": 91,
   "id": "3fcb0714-2d74-495f-ab34-0b279056ee28",
   "metadata": {},
   "outputs": [
    {
     "name": "stdout",
     "output_type": "stream",
     "text": [
      "[[0.56793252 0.95972754 0.86959401 0.7907229  0.80476743]\n",
      " [0.46100729 0.69605483 0.31168466 0.77373616 0.49362864]\n",
      " [0.47163689 0.17732026 0.48828356 0.1461975  0.63312397]\n",
      " [0.41612902 0.35763955 0.16276983 0.53679215 0.9034683 ]\n",
      " [0.71471123 0.72991764 0.8215987  0.12180865 0.86164287]]\n",
      "[[-0.01169272  1.54476332  1.18669627  0.87337067  0.92916436]\n",
      " [-0.43646695  0.49728962 -1.02967028  0.80588866 -0.30687446]\n",
      " [-0.39423947 -1.5634501  -0.32810847 -1.68708926  0.24728867]\n",
      " [-0.61475162 -0.84710857 -1.62125356 -0.13540185  1.32126626]\n",
      " [ 0.57140453  0.63181398  0.99602875 -1.78397713  1.15510935]]\n"
     ]
    }
   ],
   "source": [
    "#12\n",
    "x = np.random.random((5,5))\n",
    "y = (x-np.mean(x))/np.std(x)\n",
    "print(x)\n",
    "print(y)\n",
    "#warum nicht das gleiche?"
   ]
  },
  {
   "cell_type": "code",
   "execution_count": 79,
   "id": "62ac8ce8-8707-4325-9632-facdaa4fa76c",
   "metadata": {},
   "outputs": [
    {
     "data": {
      "text/plain": [
       "array([[0, 0, 0, 0, 0],\n",
       "       [1, 0, 0, 0, 0],\n",
       "       [0, 2, 0, 0, 0],\n",
       "       [0, 0, 3, 0, 0],\n",
       "       [0, 0, 0, 4, 0]])"
      ]
     },
     "execution_count": 79,
     "metadata": {},
     "output_type": "execute_result"
    }
   ],
   "source": [
    "#11\n",
    "np.diag((1,2,3,4), k=-1)"
   ]
  },
  {
   "cell_type": "code",
   "execution_count": 57,
   "id": "b00d7d84-0bac-488c-90e6-a25efd748529",
   "metadata": {},
   "outputs": [
    {
     "data": {
      "text/plain": [
       "0.48399382904810684"
      ]
     },
     "execution_count": 57,
     "metadata": {},
     "output_type": "execute_result"
    }
   ],
   "source": [
    "#10\n",
    "np.mean(np.random.random(10))"
   ]
  },
  {
   "cell_type": "code",
   "execution_count": null,
   "id": "40db94c6-ef9f-4b30-8f0c-43acc6150139",
   "metadata": {},
   "outputs": [],
   "source": []
  }
 ],
 "metadata": {
  "kernelspec": {
   "display_name": "Python 3 (ipykernel)",
   "language": "python",
   "name": "python3"
  },
  "language_info": {
   "codemirror_mode": {
    "name": "ipython",
    "version": 3
   },
   "file_extension": ".py",
   "mimetype": "text/x-python",
   "name": "python",
   "nbconvert_exporter": "python",
   "pygments_lexer": "ipython3",
   "version": "3.12.4"
  }
 },
 "nbformat": 4,
 "nbformat_minor": 5
}
